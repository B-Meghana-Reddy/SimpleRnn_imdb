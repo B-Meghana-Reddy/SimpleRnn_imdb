{
 "cells": [
  {
   "cell_type": "code",
   "execution_count": 1,
   "id": "19454c23",
   "metadata": {},
   "outputs": [],
   "source": [
    "# Step 1: Import Libraries and Load the Model\n",
    "import numpy as np\n",
    "import tensorflow as tf\n",
    "from tensorflow.keras.datasets import imdb\n",
    "from tensorflow.keras.preprocessing import sequence\n",
    "from tensorflow.keras.models import load_model"
   ]
  },
  {
   "cell_type": "code",
   "execution_count": 2,
   "id": "da05759b",
   "metadata": {},
   "outputs": [],
   "source": [
    "# Load the IMDB dataset word index\n",
    "word_index = imdb.get_word_index()\n",
    "reverse_word_index = {value: key for key, value in word_index.items()}"
   ]
  },
  {
   "cell_type": "code",
   "execution_count": 11,
   "id": "1619a84b",
   "metadata": {},
   "outputs": [
    {
     "name": "stderr",
     "output_type": "stream",
     "text": [
      "c:\\Users\\megha\\AppData\\Local\\Programs\\Python\\Python310\\lib\\site-packages\\keras\\src\\saving\\saving_lib.py:719: UserWarning: Skipping variable loading for optimizer 'rmsprop', because it has 8 variables whereas the saved optimizer has 14 variables. \n",
      "  saveable.load_own_variables(weights_store.get(inner_path))\n"
     ]
    },
    {
     "data": {
      "text/html": [
       "<pre style=\"white-space:pre;overflow-x:auto;line-height:normal;font-family:Menlo,'DejaVu Sans Mono',consolas,'Courier New',monospace\"><span style=\"font-weight: bold\">Model: \"sequential_5\"</span>\n",
       "</pre>\n"
      ],
      "text/plain": [
       "\u001b[1mModel: \"sequential_5\"\u001b[0m\n"
      ]
     },
     "metadata": {},
     "output_type": "display_data"
    },
    {
     "data": {
      "text/html": [
       "<pre style=\"white-space:pre;overflow-x:auto;line-height:normal;font-family:Menlo,'DejaVu Sans Mono',consolas,'Courier New',monospace\">┏━━━━━━━━━━━━━━━━━━━━━━━━━━━━━━━━━┳━━━━━━━━━━━━━━━━━━━━━━━━┳━━━━━━━━━━━━━━━┓\n",
       "┃<span style=\"font-weight: bold\"> Layer (type)                    </span>┃<span style=\"font-weight: bold\"> Output Shape           </span>┃<span style=\"font-weight: bold\">       Param # </span>┃\n",
       "┡━━━━━━━━━━━━━━━━━━━━━━━━━━━━━━━━━╇━━━━━━━━━━━━━━━━━━━━━━━━╇━━━━━━━━━━━━━━━┩\n",
       "│ embedding_5 (<span style=\"color: #0087ff; text-decoration-color: #0087ff\">Embedding</span>)         │ (<span style=\"color: #00af00; text-decoration-color: #00af00\">0</span>, <span style=\"color: #00af00; text-decoration-color: #00af00\">500</span>, <span style=\"color: #00af00; text-decoration-color: #00af00\">128</span>)          │     <span style=\"color: #00af00; text-decoration-color: #00af00\">1,280,000</span> │\n",
       "├─────────────────────────────────┼────────────────────────┼───────────────┤\n",
       "│ simple_rnn_5 (<span style=\"color: #0087ff; text-decoration-color: #0087ff\">SimpleRNN</span>)        │ (<span style=\"color: #00af00; text-decoration-color: #00af00\">0</span>, <span style=\"color: #00af00; text-decoration-color: #00af00\">128</span>)               │        <span style=\"color: #00af00; text-decoration-color: #00af00\">32,896</span> │\n",
       "├─────────────────────────────────┼────────────────────────┼───────────────┤\n",
       "│ dense_5 (<span style=\"color: #0087ff; text-decoration-color: #0087ff\">Dense</span>)                 │ (<span style=\"color: #00af00; text-decoration-color: #00af00\">0</span>, <span style=\"color: #00af00; text-decoration-color: #00af00\">1</span>)                 │           <span style=\"color: #00af00; text-decoration-color: #00af00\">129</span> │\n",
       "└─────────────────────────────────┴────────────────────────┴───────────────┘\n",
       "</pre>\n"
      ],
      "text/plain": [
       "┏━━━━━━━━━━━━━━━━━━━━━━━━━━━━━━━━━┳━━━━━━━━━━━━━━━━━━━━━━━━┳━━━━━━━━━━━━━━━┓\n",
       "┃\u001b[1m \u001b[0m\u001b[1mLayer (type)                   \u001b[0m\u001b[1m \u001b[0m┃\u001b[1m \u001b[0m\u001b[1mOutput Shape          \u001b[0m\u001b[1m \u001b[0m┃\u001b[1m \u001b[0m\u001b[1m      Param #\u001b[0m\u001b[1m \u001b[0m┃\n",
       "┡━━━━━━━━━━━━━━━━━━━━━━━━━━━━━━━━━╇━━━━━━━━━━━━━━━━━━━━━━━━╇━━━━━━━━━━━━━━━┩\n",
       "│ embedding_5 (\u001b[38;5;33mEmbedding\u001b[0m)         │ (\u001b[38;5;34m0\u001b[0m, \u001b[38;5;34m500\u001b[0m, \u001b[38;5;34m128\u001b[0m)          │     \u001b[38;5;34m1,280,000\u001b[0m │\n",
       "├─────────────────────────────────┼────────────────────────┼───────────────┤\n",
       "│ simple_rnn_5 (\u001b[38;5;33mSimpleRNN\u001b[0m)        │ (\u001b[38;5;34m0\u001b[0m, \u001b[38;5;34m128\u001b[0m)               │        \u001b[38;5;34m32,896\u001b[0m │\n",
       "├─────────────────────────────────┼────────────────────────┼───────────────┤\n",
       "│ dense_5 (\u001b[38;5;33mDense\u001b[0m)                 │ (\u001b[38;5;34m0\u001b[0m, \u001b[38;5;34m1\u001b[0m)                 │           \u001b[38;5;34m129\u001b[0m │\n",
       "└─────────────────────────────────┴────────────────────────┴───────────────┘\n"
      ]
     },
     "metadata": {},
     "output_type": "display_data"
    },
    {
     "data": {
      "text/html": [
       "<pre style=\"white-space:pre;overflow-x:auto;line-height:normal;font-family:Menlo,'DejaVu Sans Mono',consolas,'Courier New',monospace\"><span style=\"font-weight: bold\"> Total params: </span><span style=\"color: #00af00; text-decoration-color: #00af00\">2,626,052</span> (10.02 MB)\n",
       "</pre>\n"
      ],
      "text/plain": [
       "\u001b[1m Total params: \u001b[0m\u001b[38;5;34m2,626,052\u001b[0m (10.02 MB)\n"
      ]
     },
     "metadata": {},
     "output_type": "display_data"
    },
    {
     "data": {
      "text/html": [
       "<pre style=\"white-space:pre;overflow-x:auto;line-height:normal;font-family:Menlo,'DejaVu Sans Mono',consolas,'Courier New',monospace\"><span style=\"font-weight: bold\"> Trainable params: </span><span style=\"color: #00af00; text-decoration-color: #00af00\">1,313,025</span> (5.01 MB)\n",
       "</pre>\n"
      ],
      "text/plain": [
       "\u001b[1m Trainable params: \u001b[0m\u001b[38;5;34m1,313,025\u001b[0m (5.01 MB)\n"
      ]
     },
     "metadata": {},
     "output_type": "display_data"
    },
    {
     "data": {
      "text/html": [
       "<pre style=\"white-space:pre;overflow-x:auto;line-height:normal;font-family:Menlo,'DejaVu Sans Mono',consolas,'Courier New',monospace\"><span style=\"font-weight: bold\"> Non-trainable params: </span><span style=\"color: #00af00; text-decoration-color: #00af00\">0</span> (0.00 B)\n",
       "</pre>\n"
      ],
      "text/plain": [
       "\u001b[1m Non-trainable params: \u001b[0m\u001b[38;5;34m0\u001b[0m (0.00 B)\n"
      ]
     },
     "metadata": {},
     "output_type": "display_data"
    },
    {
     "data": {
      "text/html": [
       "<pre style=\"white-space:pre;overflow-x:auto;line-height:normal;font-family:Menlo,'DejaVu Sans Mono',consolas,'Courier New',monospace\"><span style=\"font-weight: bold\"> Optimizer params: </span><span style=\"color: #00af00; text-decoration-color: #00af00\">1,313,027</span> (5.01 MB)\n",
       "</pre>\n"
      ],
      "text/plain": [
       "\u001b[1m Optimizer params: \u001b[0m\u001b[38;5;34m1,313,027\u001b[0m (5.01 MB)\n"
      ]
     },
     "metadata": {},
     "output_type": "display_data"
    }
   ],
   "source": [
    "# Load the pre-trained model with ReLU activation\n",
    "model = load_model('simple_rnn.keras')\n",
    "model.summary()"
   ]
  },
  {
   "cell_type": "code",
   "execution_count": 12,
   "id": "ed143c9e",
   "metadata": {},
   "outputs": [
    {
     "data": {
      "text/plain": [
       "[array([[-0.12762852,  0.16309093,  0.09753717, ...,  0.16647688,\n",
       "         -0.07870927, -0.14553262],\n",
       "        [-0.00834728,  0.09129404,  0.00028393, ...,  0.03063683,\n",
       "         -0.07394224, -0.01714652],\n",
       "        [-0.07532325,  0.13250935,  0.07353628, ...,  0.05245418,\n",
       "         -0.05782226, -0.06905905],\n",
       "        ...,\n",
       "        [-0.0505555 ,  0.04165595,  0.04790466, ...,  0.01979006,\n",
       "         -0.02006391, -0.06807312],\n",
       "        [-0.0151963 , -0.05408159,  0.00355858, ..., -0.00490473,\n",
       "          0.04812723, -0.03031706],\n",
       "        [ 0.0294068 ,  0.00163267, -0.0003228 , ..., -0.00885098,\n",
       "         -0.00943605, -0.07669397]], dtype=float32),\n",
       " array([[-0.08783825,  0.13730296, -0.03831498, ...,  0.12788735,\n",
       "          0.07195853,  0.03103907],\n",
       "        [-0.13766044,  0.05912003, -0.1788811 , ...,  0.10830732,\n",
       "          0.04408652, -0.1838556 ],\n",
       "        [-0.15916759,  0.03259861, -0.10275508, ..., -0.15094101,\n",
       "         -0.04087958, -0.08981741],\n",
       "        ...,\n",
       "        [-0.01994818, -0.03311256, -0.09813303, ..., -0.13200216,\n",
       "          0.08096915, -0.02669558],\n",
       "        [ 0.02827702,  0.09129118, -0.09545002, ...,  0.02337077,\n",
       "          0.11655354,  0.20873393],\n",
       "        [-0.11142083,  0.11780421,  0.03137514, ...,  0.02614651,\n",
       "          0.11666771,  0.10923291]], dtype=float32),\n",
       " array([[ 0.07691637, -0.04358546, -0.13669136, ...,  0.1578518 ,\n",
       "          0.00055138, -0.03082209],\n",
       "        [ 0.12038407, -0.08327187,  0.00421505, ..., -0.21172655,\n",
       "          0.08873072, -0.18241599],\n",
       "        [ 0.21123636, -0.0182008 ,  0.02628151, ..., -0.09652924,\n",
       "         -0.09010484, -0.19190623],\n",
       "        ...,\n",
       "        [-0.00377356, -0.13028441,  0.06805216, ...,  0.03838158,\n",
       "         -0.07928143,  0.0553601 ],\n",
       "        [ 0.07437103,  0.03156764, -0.00578012, ...,  0.20326881,\n",
       "         -0.16758439, -0.10937705],\n",
       "        [-0.1568026 , -0.055701  ,  0.06802685, ..., -0.01764679,\n",
       "         -0.05131098, -0.11198948]], dtype=float32),\n",
       " array([-0.03902431, -0.04427494, -0.02154691, -0.01660223,  0.00320588,\n",
       "         0.00360124, -0.0302437 ,  0.01307578, -0.00528742, -0.01601928,\n",
       "        -0.02643465, -0.02379298, -0.03297968, -0.01719425, -0.01398535,\n",
       "         0.03223159, -0.00988857, -0.00709775, -0.01880506,  0.01849025,\n",
       "        -0.03920825, -0.02345878, -0.05201065, -0.01956613, -0.03251629,\n",
       "        -0.03510056, -0.00201383,  0.00549073, -0.01847409,  0.00175747,\n",
       "         0.02294432, -0.01464963, -0.0174224 , -0.03168634, -0.01135595,\n",
       "         0.00125279,  0.02339808, -0.03087212, -0.00885077, -0.02043017,\n",
       "        -0.02079315, -0.00185461, -0.02893417, -0.0017233 ,  0.00388462,\n",
       "        -0.00921754,  0.00095486, -0.01346189,  0.00842678, -0.03294231,\n",
       "        -0.01918304, -0.02714079, -0.04215017, -0.00549111,  0.00917519,\n",
       "         0.00459598, -0.0483538 , -0.02350884, -0.0153179 , -0.02833039,\n",
       "        -0.02426404, -0.0341256 , -0.00598517, -0.00846327, -0.01192742,\n",
       "        -0.04304514, -0.03553688,  0.00672091, -0.03390552, -0.00229352,\n",
       "         0.03643691, -0.02462425,  0.00636077,  0.01026168, -0.00561515,\n",
       "        -0.01775949, -0.026386  , -0.01709098, -0.00299771, -0.01016674,\n",
       "        -0.00777052, -0.02423718, -0.02390966, -0.04637471, -0.00200866,\n",
       "        -0.03717357, -0.04325248, -0.0152544 , -0.00205234, -0.02479823,\n",
       "        -0.03685829, -0.02703008, -0.01214279, -0.01584996, -0.00184117,\n",
       "         0.0313249 , -0.00815439, -0.04320292, -0.00979531, -0.04439056,\n",
       "         0.00580366, -0.01592126, -0.0158647 , -0.00495234, -0.01007743,\n",
       "        -0.02797225,  0.01895355,  0.00078764, -0.01489199,  0.00135743,\n",
       "        -0.02653712, -0.0460507 ,  0.04584797,  0.00129039,  0.00329907,\n",
       "        -0.01853312,  0.00187498,  0.03137996, -0.0293528 ,  0.00577856,\n",
       "        -0.03581586, -0.02744963,  0.04479361,  0.00045724, -0.03385504,\n",
       "        -0.03432243, -0.01643596, -0.0474229 ], dtype=float32),\n",
       " array([[ 0.01070274],\n",
       "        [-0.18507458],\n",
       "        [-0.17350188],\n",
       "        [-0.3150387 ],\n",
       "        [ 0.09727652],\n",
       "        [-0.10028273],\n",
       "        [ 0.06155471],\n",
       "        [-0.1938515 ],\n",
       "        [-0.01709514],\n",
       "        [-0.01985814],\n",
       "        [ 0.00387031],\n",
       "        [ 0.13481912],\n",
       "        [-0.17507413],\n",
       "        [ 0.03604839],\n",
       "        [-0.03232163],\n",
       "        [ 0.07502008],\n",
       "        [ 0.14163487],\n",
       "        [-0.31613743],\n",
       "        [ 0.10323326],\n",
       "        [-0.20345233],\n",
       "        [ 0.06950603],\n",
       "        [-0.02037039],\n",
       "        [-0.14179209],\n",
       "        [-0.14255121],\n",
       "        [-0.55114216],\n",
       "        [-0.1296958 ],\n",
       "        [-0.31953302],\n",
       "        [-0.0681809 ],\n",
       "        [ 0.16827467],\n",
       "        [-0.41465688],\n",
       "        [ 0.23970084],\n",
       "        [-0.10907848],\n",
       "        [ 0.13566554],\n",
       "        [-0.136017  ],\n",
       "        [ 0.04940646],\n",
       "        [-0.3423636 ],\n",
       "        [ 0.1866893 ],\n",
       "        [-0.16904305],\n",
       "        [-0.5719219 ],\n",
       "        [ 0.29138044],\n",
       "        [ 0.19593261],\n",
       "        [ 0.0545921 ],\n",
       "        [ 0.23811126],\n",
       "        [ 0.26115996],\n",
       "        [-0.2337563 ],\n",
       "        [ 0.22142082],\n",
       "        [-0.33145377],\n",
       "        [ 0.190395  ],\n",
       "        [-0.3530845 ],\n",
       "        [ 0.12658487],\n",
       "        [-0.05801377],\n",
       "        [-0.11712369],\n",
       "        [-0.21881111],\n",
       "        [ 0.06672236],\n",
       "        [-0.00751671],\n",
       "        [-0.21870676],\n",
       "        [-0.11851033],\n",
       "        [-0.2563112 ],\n",
       "        [-0.18407121],\n",
       "        [-0.07466318],\n",
       "        [ 0.19894882],\n",
       "        [-0.13163099],\n",
       "        [ 0.18382865],\n",
       "        [ 0.18918732],\n",
       "        [ 0.09708618],\n",
       "        [-0.21874222],\n",
       "        [ 0.23259513],\n",
       "        [-0.1849447 ],\n",
       "        [ 0.17742805],\n",
       "        [-0.7965977 ],\n",
       "        [ 0.04468094],\n",
       "        [-0.07485209],\n",
       "        [-0.36237103],\n",
       "        [ 0.20709181],\n",
       "        [ 0.04501667],\n",
       "        [ 0.13203314],\n",
       "        [-0.11294689],\n",
       "        [ 0.13449778],\n",
       "        [ 0.1187149 ],\n",
       "        [ 0.13262849],\n",
       "        [-0.19666812],\n",
       "        [-0.31056267],\n",
       "        [ 0.13537797],\n",
       "        [ 0.16294251],\n",
       "        [-0.3529412 ],\n",
       "        [-0.20761508],\n",
       "        [ 0.08606239],\n",
       "        [-0.18325138],\n",
       "        [-0.05512109],\n",
       "        [-0.2091476 ],\n",
       "        [ 0.17128375],\n",
       "        [ 0.09598515],\n",
       "        [ 0.16652979],\n",
       "        [-0.18659078],\n",
       "        [ 0.41258824],\n",
       "        [-0.03733477],\n",
       "        [-0.1798338 ],\n",
       "        [-0.4160981 ],\n",
       "        [ 0.39141932],\n",
       "        [-0.25920358],\n",
       "        [ 0.21984217],\n",
       "        [ 0.11508142],\n",
       "        [ 0.03281027],\n",
       "        [-0.01756458],\n",
       "        [ 0.04141373],\n",
       "        [ 0.17389624],\n",
       "        [-0.22064485],\n",
       "        [ 0.15725172],\n",
       "        [ 0.01924871],\n",
       "        [ 0.12756479],\n",
       "        [ 0.04672896],\n",
       "        [ 0.17972648],\n",
       "        [ 0.21042766],\n",
       "        [ 0.13758242],\n",
       "        [-0.03327791],\n",
       "        [-0.08773129],\n",
       "        [-0.10842422],\n",
       "        [-0.00785188],\n",
       "        [-0.02821587],\n",
       "        [-0.31160545],\n",
       "        [-0.2723713 ],\n",
       "        [-0.37717104],\n",
       "        [ 0.29257625],\n",
       "        [ 0.22081296],\n",
       "        [-0.45108005],\n",
       "        [ 0.03765741],\n",
       "        [ 0.17077775],\n",
       "        [-0.10479701]], dtype=float32),\n",
       " array([-0.24389379], dtype=float32)]"
      ]
     },
     "execution_count": 12,
     "metadata": {},
     "output_type": "execute_result"
    }
   ],
   "source": [
    "model.get_weights()"
   ]
  },
  {
   "cell_type": "code",
   "execution_count": 13,
   "id": "d7f4d0e1",
   "metadata": {},
   "outputs": [],
   "source": [
    "# Step 2: Helper Functions\n",
    "# Function to decode reviews\n",
    "def decode_review(encoded_review):\n",
    "    return ' '.join([reverse_word_index.get(i - 3, '?') for i in encoded_review])\n",
    "\n",
    "# Function to preprocess user input\n",
    "def preprocess_text(text):\n",
    "    words = text.lower().split()\n",
    "    encoded_review = [word_index.get(word, 2) + 3 for word in words]\n",
    "    padded_review = sequence.pad_sequences([encoded_review], maxlen=500)\n",
    "    return padded_review"
   ]
  },
  {
   "cell_type": "code",
   "execution_count": 14,
   "id": "f02067a8",
   "metadata": {},
   "outputs": [],
   "source": [
    "### Prediction  function\n",
    "\n",
    "def predict_sentiment(review):\n",
    "    preprocessed_input=preprocess_text(review)\n",
    "\n",
    "    prediction=model.predict(preprocessed_input)\n",
    "\n",
    "    sentiment = 'Positive' if prediction[0][0] > 0.5 else 'Negative'\n",
    "    \n",
    "    return sentiment, prediction[0][0]"
   ]
  },
  {
   "cell_type": "code",
   "execution_count": 15,
   "id": "a8d98e5f",
   "metadata": {},
   "outputs": [
    {
     "name": "stdout",
     "output_type": "stream",
     "text": [
      "\u001b[1m1/1\u001b[0m \u001b[32m━━━━━━━━━━━━━━━━━━━━\u001b[0m\u001b[37m\u001b[0m \u001b[1m0s\u001b[0m 189ms/step\n",
      "Review: This movie was Great!\n",
      "Sentiment: Positive\n",
      "Prediction Score: 0.6152315735816956\n"
     ]
    }
   ],
   "source": [
    "# Step 4: User Input and Prediction\n",
    "# Example review for prediction\n",
    "example_review = \"This movie was Great!\"\n",
    "\n",
    "sentiment,score=predict_sentiment(example_review)\n",
    "\n",
    "print(f'Review: {example_review}')\n",
    "print(f'Sentiment: {sentiment}')\n",
    "print(f'Prediction Score: {score}')"
   ]
  },
  {
   "cell_type": "code",
   "execution_count": null,
   "id": "e08669f9",
   "metadata": {},
   "outputs": [],
   "source": []
  }
 ],
 "metadata": {
  "kernelspec": {
   "display_name": "Python 3",
   "language": "python",
   "name": "python3"
  },
  "language_info": {
   "codemirror_mode": {
    "name": "ipython",
    "version": 3
   },
   "file_extension": ".py",
   "mimetype": "text/x-python",
   "name": "python",
   "nbconvert_exporter": "python",
   "pygments_lexer": "ipython3",
   "version": "3.10.11"
  }
 },
 "nbformat": 4,
 "nbformat_minor": 5
}
